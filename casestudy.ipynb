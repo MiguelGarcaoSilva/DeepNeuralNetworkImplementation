{
 "cells": [
  {
   "cell_type": "code",
   "execution_count": 5,
   "metadata": {},
   "outputs": [],
   "source": [
    "import numpy as np\n",
    "import pandas as pd\n",
    "from sklearn import datasets"
   ]
  },
  {
   "cell_type": "code",
   "execution_count": 6,
   "metadata": {},
   "outputs": [
    {
     "data": {
      "text/plain": [
       "(100, 5)"
      ]
     },
     "execution_count": 6,
     "metadata": {},
     "output_type": "execute_result"
    }
   ],
   "source": [
    "iris = datasets.load_iris()\n",
    "\n",
    "# Convert to a DataFrame\n",
    "iris_df = pd.DataFrame(iris.data, columns=iris.feature_names)\n",
    "iris_df['species'] = iris.target\n",
    "\n",
    "# Filter for binary classification 'versicolor' vs 'virginica' ['setosa' 'versicolor' 'virginica']\n",
    "X = iris_df[iris_df['species'].isin([1, 2])].copy()\n",
    "\n",
    "# Relabel the target column (optional: make species binary 0 and 1)\n",
    "X['species'] = X['species'].map({1: 0, 2: 1})\n",
    "\n",
    "#to array\n",
    "X = X.values\n",
    "\n",
    "# Print the filtered dataset\n",
    "X.shape # (100, 5)\n"
   ]
  },
  {
   "cell_type": "code",
   "execution_count": 7,
   "metadata": {},
   "outputs": [
    {
     "name": "stdout",
     "output_type": "stream",
     "text": [
      "(80, 4)\n",
      "(20, 4)\n",
      "(80, 1)\n",
      "(20, 1)\n"
     ]
    }
   ],
   "source": [
    "#train test split\n",
    "from sklearn.model_selection import train_test_split\n",
    "\n",
    "X_train, X_test = train_test_split(X, test_size=0.2, random_state=42)\n",
    "y_train = X_train[:, -1].reshape(-1, 1)\n",
    "y_test = X_test[:, -1].reshape(-1, 1)\n",
    "X_train = X_train[:, :-1]\n",
    "X_test = X_test[:, :-1]\n",
    "\n",
    "print(X_train.shape) # (80, 5) m examples, n features\n",
    "print(X_test.shape)  # (20, 5)\n",
    "print(y_train.shape) # (80,1)\n",
    "print(y_test.shape)  # (20,1)\n",
    "\n",
    "X_train = X_train.T\n",
    "X_test = X_test.T\n",
    "y_train = y_train.T\n",
    "y_test = y_test.T"
   ]
  },
  {
   "cell_type": "code",
   "execution_count": null,
   "metadata": {},
   "outputs": [],
   "source": [
    "# Train the model\n",
    "model = NeuralNetwork1Layer(input_dim=X_train.shape[0], output_dim=1, nunits=4, learning_rate=0.01, n_iters=10000)\n",
    "parameters = model.fit(X_train, y_train)\n",
    "\n",
    "# Predict on the test set\n",
    "predictions = model.predict(X_test)\n",
    "\n",
    "# Calculate the accuracy\n",
    "accuracy = np.mean(predictions == y_test)\n",
    "print(f'Accuracy: {accuracy}')"
   ]
  },
  {
   "cell_type": "code",
   "execution_count": 8,
   "metadata": {},
   "outputs": [
    {
     "name": "stdout",
     "output_type": "stream",
     "text": [
      "Cost after iteration 0: 0.6930539743191433\n",
      "Cost after iteration 100: 0.6922902398076483\n",
      "Cost after iteration 200: 0.6913846031660684\n",
      "Cost after iteration 300: 0.6899185001458247\n",
      "Cost after iteration 400: 0.6876445972276589\n",
      "Cost after iteration 500: 0.6847972878777471\n",
      "Cost after iteration 600: 0.6816153216372574\n",
      "Cost after iteration 700: 0.6778666232503605\n",
      "Cost after iteration 800: 0.6731681540303533\n",
      "Cost after iteration 900: 0.6670804254785371\n",
      "Cost after iteration 1000: 0.6589859977878778\n",
      "Cost after iteration 1100: 0.6480017279578734\n",
      "Cost after iteration 1200: 0.6329537267075203\n",
      "Cost after iteration 1300: 0.6124483764020785\n",
      "Cost after iteration 1400: 0.585106556311854\n",
      "Cost after iteration 1500: 0.5517961662111277\n",
      "Cost after iteration 1600: 0.5141861119024359\n",
      "Cost after iteration 1700: 0.4761683691661281\n",
      "Cost after iteration 1800: 0.4406716403816739\n",
      "Cost after iteration 1900: 0.40734118529978613\n",
      "Cost after iteration 2000: 0.376996082435653\n",
      "Cost after iteration 2100: 0.34992781216368185\n",
      "Cost after iteration 2200: 0.32523188165799\n",
      "Cost after iteration 2300: 0.30304313617863826\n",
      "Cost after iteration 2400: 0.2834428100149339\n",
      "Cost after iteration 2500: 0.26579615661337247\n",
      "Cost after iteration 2600: 0.24962961881489845\n",
      "Cost after iteration 2700: 0.2351047279313123\n",
      "Cost after iteration 2800: 0.22215121183009245\n",
      "Cost after iteration 2900: 0.2103239025377615\n",
      "Cost after iteration 3000: 0.1994864330325605\n",
      "Cost after iteration 3100: 0.18956058454573838\n",
      "Cost after iteration 3200: 0.1805502881324487\n",
      "Cost after iteration 3300: 0.17229264338712263\n",
      "Cost after iteration 3400: 0.1646783860804069\n",
      "Cost after iteration 3500: 0.1577098400073279\n",
      "Cost after iteration 3600: 0.15132574769683\n",
      "Cost after iteration 3700: 0.1454024182660434\n",
      "Cost after iteration 3800: 0.13989694729239988\n",
      "Cost after iteration 3900: 0.13477404770460275\n",
      "Cost after iteration 4000: 0.13003945845313075\n",
      "Cost after iteration 4100: 0.12564506809692863\n",
      "Cost after iteration 4200: 0.12152900767426272\n",
      "Cost after iteration 4300: 0.11766743697818421\n",
      "Cost after iteration 4400: 0.1140450445484486\n",
      "Cost after iteration 4500: 0.110670250785777\n",
      "Cost after iteration 4600: 0.10750003465959695\n",
      "Cost after iteration 4700: 0.10450664289345227\n",
      "Cost after iteration 4800: 0.10167630998862931\n",
      "Cost after iteration 4900: 0.09899655774669347\n",
      "Cost after iteration 5000: 0.09645617606852976\n",
      "Cost after iteration 5100: 0.09404498945335188\n",
      "Cost after iteration 5200: 0.09175377025343122\n",
      "Cost after iteration 5300: 0.08957642791665843\n",
      "Cost after iteration 5400: 0.08751667807344073\n",
      "Cost after iteration 5500: 0.08556238638469019\n",
      "Cost after iteration 5600: 0.08369726522071919\n",
      "Cost after iteration 5700: 0.08191473219984842\n",
      "Cost after iteration 5800: 0.08020956526072368\n",
      "Cost after iteration 5900: 0.0785769656628894\n",
      "Cost after iteration 6000: 0.07701251633976797\n",
      "Cost after iteration 6100: 0.07551214505729374\n",
      "Cost after iteration 6200: 0.07407209174253222\n",
      "Cost after iteration 6300: 0.07268887944143045\n",
      "Cost after iteration 6400: 0.07135928844391715\n",
      "Cost after iteration 6500: 0.07008033318078581\n",
      "Cost after iteration 6600: 0.06884924155244027\n",
      "Cost after iteration 6700: 0.06766343639652439\n",
      "Cost after iteration 6800: 0.06652051884119113\n",
      "Cost after iteration 6900: 0.06541825332450339\n",
      "Cost after iteration 7000: 0.064354554089206\n",
      "Cost after iteration 7100: 0.06332747298666953\n",
      "Cost after iteration 7200: 0.06233518844485775\n",
      "Cost after iteration 7300: 0.061375995473253724\n",
      "Cost after iteration 7400: 0.0604482965932746\n",
      "Cost after iteration 7500: 0.05955059359616297\n",
      "Cost after iteration 7600: 0.05868148004200611\n",
      "Cost after iteration 7700: 0.05783963442365728\n",
      "Cost after iteration 7800: 0.05702381392813752\n",
      "Cost after iteration 7900: 0.056232848735776164\n",
      "Cost after iteration 8000: 0.055465636804057784\n",
      "Cost after iteration 8100: 0.05472113908901645\n",
      "Cost after iteration 8200: 0.05399837516217279\n",
      "Cost after iteration 8300: 0.05329641918553806\n",
      "Cost after iteration 8400: 0.05261439621119764\n",
      "Cost after iteration 8500: 0.05195147877550646\n",
      "Cost after iteration 8600: 0.051306883761033865\n",
      "Cost after iteration 8700: 0.05067986950215171\n",
      "Cost after iteration 8800: 0.05006973311259569\n",
      "Cost after iteration 8900: 0.04947580801549589\n",
      "Cost after iteration 9000: 0.0488974616583011\n",
      "Cost after iteration 9100: 0.04833409339673415\n",
      "Cost after iteration 9200: 0.047785132533447974\n",
      "Cost after iteration 9300: 0.047250036498415554\n",
      "Cost after iteration 9400: 0.04672828915931224\n",
      "Cost after iteration 9500: 0.04621939925124161\n",
      "Cost after iteration 9600: 0.045722898916137004\n",
      "Cost after iteration 9700: 0.04523834234305321\n",
      "Cost after iteration 9800: 0.04476530450135469\n",
      "Cost after iteration 9900: 0.044303379959518635\n",
      "Accuracy: 0.85\n"
     ]
    }
   ],
   "source": [
    "from ffnn_classifier import FFNNClassifier\n",
    "\n",
    "# Train the model\n",
    "model = FFNNClassifier(X_train.shape[0], 1, [2], [\"relu\"], learning_rate=0.01, n_iters=10000)\n",
    "\n",
    "parameters = model.fit(X_train, y_train)\n",
    "\n",
    "# Predict on the test set\n",
    "predictions = model.predict(X_test)\n",
    "\n",
    "# Calculate the accuracy\n",
    "accuracy = np.mean(predictions == y_test)\n",
    "print(f'Accuracy: {accuracy}')"
   ]
  }
 ],
 "metadata": {
  "kernelspec": {
   "display_name": "base",
   "language": "python",
   "name": "python3"
  },
  "language_info": {
   "codemirror_mode": {
    "name": "ipython",
    "version": 3
   },
   "file_extension": ".py",
   "mimetype": "text/x-python",
   "name": "python",
   "nbconvert_exporter": "python",
   "pygments_lexer": "ipython3",
   "version": "3.12.2"
  }
 },
 "nbformat": 4,
 "nbformat_minor": 2
}
